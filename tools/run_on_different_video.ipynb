{
 "cells": [
  {
   "cell_type": "code",
   "execution_count": 27,
   "metadata": {},
   "outputs": [],
   "source": [
    "import os\n",
    "import sys\n",
    "\n",
    "import torch\n",
    "from torch import nn, optim\n",
    "from torch.nn import functional as FeatureAlphaDropout\n",
    "import torch.nn as nn\n",
    "sys.path.append(os.path.realpath('../'))\n",
    "\n",
    "import pickle as pkl\n",
    "from datasets import make_dataloader\n",
    "from bitrap.modeling import make_model\n",
    "from bitrap.engine import build_engine\n",
    "\n",
    "from bitrap.utils.logger import Logger\n",
    "import logging\n",
    "import argparse\n",
    "from configs import cfg\n",
    "from termcolor import colored \n",
    "\n",
    "from torch.utils.data import DataLoader\n"
   ]
  },
  {
   "cell_type": "code",
   "execution_count": 15,
   "metadata": {},
   "outputs": [],
   "source": [
    "cfg.merge_from_file(\"../configs/bitrap_np_JAAD.yml\")\n",
    "os.environ['CUDA_VISIBLE_DEVICES'] = \"0\""
   ]
  },
  {
   "cell_type": "code",
   "execution_count": 17,
   "metadata": {},
   "outputs": [
    {
     "name": "stdout",
     "output_type": "stream",
     "text": [
      "Loaded checkpoint:../checkpoints/JAAD_checkpoints/goal_cvae_checkpoints/best.pth\n"
     ]
    }
   ],
   "source": [
    "model = make_model(cfg)\n",
    "model = model.to(cfg.DEVICE)\n",
    "checkpoint = \"../\" + cfg.CKPT_DIR + \"best.pth\"\n",
    "\n",
    "if os.path.isfile(checkpoint):\n",
    "    model.load_state_dict(torch.load(checkpoint))\n",
    "    print(colored('Loaded checkpoint:{}'.format(checkpoint), 'blue', 'on_green'))\n",
    "else:\n",
    "    print(colored('The cfg.CKPT_DIR id not a file: {}'.format(checkpoint), 'green', 'on_red'))"
   ]
  },
  {
   "cell_type": "code",
   "execution_count": 18,
   "metadata": {},
   "outputs": [],
   "source": [
    "_, _, inference = build_engine(cfg)"
   ]
  },
  {
   "cell_type": "code",
   "execution_count": 29,
   "metadata": {},
   "outputs": [],
   "source": [
    "images = [f\"../data/JAAD/images/video_0005/000{i + 46}.png\" for i in range(16)]\n",
    "\n",
    "\n",
    "\n",
    "dataloader = DataLoader(images, num_workers=1)"
   ]
  },
  {
   "cell_type": "code",
   "execution_count": 32,
   "metadata": {},
   "outputs": [],
   "source": [
    "def predict(model, input_x, cur_pos = None):\n",
    "    gt_goal = None\n",
    "    cur_pos = input_x[:, -1, :] if cur_pos is None else cur_pos\n",
    "    batch_size, seg_len, _ = input_x.shape\n",
    "\n",
    "    h_x = model.encoder(images, None)\n",
    "    Z, KLD = model.gaussian_latent_net(h_x, input_x[:, -1, :], None, z_mode=False)\n",
    "    enc_h_and_z = torch.cat([h_x.unsqueeze(1).repeat(1, Z.shape[1], 1), Z], dim=-1)\n",
    "    pred_goal = model.goal_decoder(enc_h_and_z)\n",
    "    # dec_h = enc_h_and_z if model.cfg.DEC_WITH_Z else h_x\n",
    "\n",
    "    pred_goal = model.goal_decoder(enc_h_and_z)\n",
    "\n",
    "    # dec_h = enc_h_and_z if model.cfg.DEC_WITH_Z else h_x\n",
    "    pred_traj = model.pred_future_traj(h_x, pred_goal)\n",
    "    cur_pos = input_x[:, None, -1, :] if cur_pos is None else cur_pos.unsqueeze(1)\n",
    "    pred_goal = pred_goal + cur_pos\n",
    "    pred_traj = pred_traj + cur_pos.unsqueeze(1)\n",
    "\n",
    "    return pred_traj, pred_goal\n",
    "\n"
   ]
  },
  {
   "cell_type": "code",
   "execution_count": 33,
   "metadata": {},
   "outputs": [
    {
     "ename": "UnboundLocalError",
     "evalue": "local variable 'cur_pos' referenced before assignment",
     "output_type": "error",
     "traceback": [
      "\u001b[0;31m---------------------------------------------------------------------------\u001b[0m",
      "\u001b[0;31mUnboundLocalError\u001b[0m                         Traceback (most recent call last)",
      "\u001b[1;32m/home/waluigi/Ryan/bidireaction-trajectory-prediction/tools/run_on_different_video.ipynb Cell 7\u001b[0m in \u001b[0;36m<cell line: 2>\u001b[0;34m()\u001b[0m\n\u001b[1;32m      <a href='vscode-notebook-cell://ssh-remote%2Bwaluigi/home/waluigi/Ryan/bidireaction-trajectory-prediction/tools/run_on_different_video.ipynb#W5sdnNjb2RlLXJlbW90ZQ%3D%3D?line=0'>1</a>\u001b[0m model\u001b[39m.\u001b[39meval()\n\u001b[0;32m----> <a href='vscode-notebook-cell://ssh-remote%2Bwaluigi/home/waluigi/Ryan/bidireaction-trajectory-prediction/tools/run_on_different_video.ipynb#W5sdnNjb2RlLXJlbW90ZQ%3D%3D?line=1'>2</a>\u001b[0m pred_traj, pred_goal \u001b[39m=\u001b[39m predict(model, images)\n",
      "\u001b[1;32m/home/waluigi/Ryan/bidireaction-trajectory-prediction/tools/run_on_different_video.ipynb Cell 7\u001b[0m in \u001b[0;36mpredict\u001b[0;34m(model, input_x)\u001b[0m\n\u001b[1;32m      <a href='vscode-notebook-cell://ssh-remote%2Bwaluigi/home/waluigi/Ryan/bidireaction-trajectory-prediction/tools/run_on_different_video.ipynb#W5sdnNjb2RlLXJlbW90ZQ%3D%3D?line=0'>1</a>\u001b[0m \u001b[39mdef\u001b[39;00m \u001b[39mpredict\u001b[39m(model, input_x):\n\u001b[1;32m      <a href='vscode-notebook-cell://ssh-remote%2Bwaluigi/home/waluigi/Ryan/bidireaction-trajectory-prediction/tools/run_on_different_video.ipynb#W5sdnNjb2RlLXJlbW90ZQ%3D%3D?line=1'>2</a>\u001b[0m     gt_goal \u001b[39m=\u001b[39m \u001b[39mNone\u001b[39;00m\n\u001b[0;32m----> <a href='vscode-notebook-cell://ssh-remote%2Bwaluigi/home/waluigi/Ryan/bidireaction-trajectory-prediction/tools/run_on_different_video.ipynb#W5sdnNjb2RlLXJlbW90ZQ%3D%3D?line=2'>3</a>\u001b[0m     cur_pos \u001b[39m=\u001b[39m input_x[:, \u001b[39m-\u001b[39m\u001b[39m1\u001b[39m, :] \u001b[39mif\u001b[39;00m cur_pos \u001b[39mis\u001b[39;00m \u001b[39mNone\u001b[39;00m \u001b[39melse\u001b[39;00m cur_pos\n\u001b[1;32m      <a href='vscode-notebook-cell://ssh-remote%2Bwaluigi/home/waluigi/Ryan/bidireaction-trajectory-prediction/tools/run_on_different_video.ipynb#W5sdnNjb2RlLXJlbW90ZQ%3D%3D?line=3'>4</a>\u001b[0m     batch_size, seg_len, _ \u001b[39m=\u001b[39m input_x\u001b[39m.\u001b[39mshape\n\u001b[1;32m      <a href='vscode-notebook-cell://ssh-remote%2Bwaluigi/home/waluigi/Ryan/bidireaction-trajectory-prediction/tools/run_on_different_video.ipynb#W5sdnNjb2RlLXJlbW90ZQ%3D%3D?line=5'>6</a>\u001b[0m     h_x \u001b[39m=\u001b[39m model\u001b[39m.\u001b[39mencoder(images, \u001b[39mNone\u001b[39;00m)\n",
      "\u001b[0;31mUnboundLocalError\u001b[0m: local variable 'cur_pos' referenced before assignment"
     ]
    }
   ],
   "source": [
    "model.eval()\n",
    "\n",
    "input_x = images\n",
    "\n",
    "pred_traj, pred_goal = predict(model, input_x, cur_pos=input_x[:, -1, :cfg.MODEL.DEC_OUTPUT_DIM])\n",
    "\n",
    "\n",
    "\n",
    "\n",
    "# pred_goal = model.goal_decoder()\n",
    "# pred_traj = model.pred_future_traj(, pred_goal)"
   ]
  }
 ],
 "metadata": {
  "kernelspec": {
   "display_name": "Python 3.10.6 ('pytorch38')",
   "language": "python",
   "name": "python3"
  },
  "language_info": {
   "codemirror_mode": {
    "name": "ipython",
    "version": 3
   },
   "file_extension": ".py",
   "mimetype": "text/x-python",
   "name": "python",
   "nbconvert_exporter": "python",
   "pygments_lexer": "ipython3",
   "version": "3.10.6"
  },
  "orig_nbformat": 4,
  "vscode": {
   "interpreter": {
    "hash": "61468da9f15d03f379c04cf0dd5a78cf227ce594ced04d10acd5ad9790574dd0"
   }
  }
 },
 "nbformat": 4,
 "nbformat_minor": 2
}
