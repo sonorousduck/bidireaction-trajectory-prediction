{
 "cells": [
  {
   "cell_type": "code",
   "execution_count": null,
   "metadata": {},
   "outputs": [],
   "source": [
    "import os\n",
    "import sys\n",
    "\n",
    "import torch\n",
    "from torch import nn, optim\n",
    "from torch.nn import functional as FeatureAlphaDropout\n",
    "import torch.nn as nn\n",
    "sys.path.append(os.path.realpath('../'))\n",
    "import numpy as np\n",
    "import pickle as pkl\n",
    "from datasets import make_dataloader\n",
    "from bitrap.modeling import make_model\n",
    "from bitrap.engine import build_engine\n",
    "\n",
    "from bitrap.utils.logger import Logger\n",
    "import logging\n",
    "import argparse\n",
    "from configs import cfg\n",
    "from termcolor import colored \n",
    "\n",
    "from torch.utils.data import DataLoader\n",
    "import cv2\n",
    "import matplotlib.pyplot as plt\n",
    "%matplotlib inline"
   ]
  }
 ],
 "metadata": {
  "kernelspec": {
   "display_name": "Python 3.10.6 ('pytorch38')",
   "language": "python",
   "name": "python3"
  },
  "language_info": {
   "name": "python",
   "version": "3.10.6"
  },
  "orig_nbformat": 4,
  "vscode": {
   "interpreter": {
    "hash": "61468da9f15d03f379c04cf0dd5a78cf227ce594ced04d10acd5ad9790574dd0"
   }
  }
 },
 "nbformat": 4,
 "nbformat_minor": 2
}
